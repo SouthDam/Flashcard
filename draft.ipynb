{
 "cells": [
  {
   "cell_type": "code",
   "execution_count": 1,
   "metadata": {},
   "outputs": [
    {
     "name": "stdout",
     "output_type": "stream",
     "text": [
      "4\n",
      "['Italy (Italian: Italia [iˈtaːlja] (listen)), officially the Italian Republic (Italian: Repubblica Italiana [reˈpubblika itaˈljaːna]),  is a country consisting of a peninsula delimited by the Alps and surrounded by several islands. Italy is located in south-central Europe, and it is also considered a part of western Europe. A unitary parliamentary republic  with its capital in Rome, the country covers a total area of 301,340 km2 (116,350 sq mi) and shares land borders with France, Switzerland, Austria, Slovenia, and the enclaved microstates of Vatican City and San Marino. Italy has a territorial exclave in Switzerland (Campione) and a maritime exclave in Tunisian waters (Lampedusa). With around 60 million inhabitants, Italy is the third-most populous member state of the European Union.', \"Due to its central geographic location in Southern Europe and the Mediterranean, Italy has historically been home to myriad peoples and cultures. In addition to the various ancient peoples dispersed throughout what is now modern-day Italy, the most predominant being the Indo-European Italic peoples who gave the peninsula its name, beginning from the classical era, Phoenicians and Carthaginians founded colonies mostly in insular Italy, Greeks established settlements in the so-called Magna Graecia of Southern Italy, while Etruscans and Celts inhabited central and northern Italy respectively. An Italic tribe known as the Latins formed the Roman Kingdom in the 8th century BC, which eventually became a republic with a government of the Senate and the People. The Roman Republic initially conquered and assimilated its neighbours on the Italian peninsula, eventually expanding and conquering parts of Europe, North Africa and  Asia. By the first century BC, the Roman Empire emerged as the dominant power in the Mediterranean Basin and became a leading cultural, political and religious centre, inaugurating the Pax Romana, a period of more than 200 years during which Italy's law, technology, economy, art, and literature developed. Italy remained the homeland of the Romans and the metropole of the empire, whose legacy can also be observed in the global distribution of culture, governments, Christianity and the Latin script.\", \"During the Early Middle Ages, Italy endured the fall of the Western Roman Empire and barbarian invasions, but by the 11th century numerous rival city-states and maritime republics, mainly in the northern and central regions of Italy, rose to great prosperity through trade, commerce and banking, laying the groundwork for modern capitalism. These mostly independent statelets served as Europe's main trading hubs with Asia and the Near East, often enjoying a greater degree of democracy than the larger feudal monarchies that were consolidating throughout Europe; however, part of central Italy was under the control of the theocratic Papal States, while Southern Italy remained largely feudal until the 19th century, partially as a result of a succession of Byzantine, Arab, Norman, Angevin, Aragonese and other foreign conquests of the region. The Renaissance began in Italy and spread to the rest of Europe, bringing a renewed interest in humanism, science, exploration and art. Italian culture flourished, producing famous scholars, artists and polymaths. During the Middle Ages, Italian explorers discovered new routes to the Far East and the New World, helping to usher in the European Age of Discovery. Nevertheless, Italy's commercial and political power significantly waned with the opening of trade routes that bypassed the Mediterranean. Centuries of rivalry and infighting between the Italian city-states, such as the Italian Wars of the 15th and 16th centuries, left Italy fragmented and several Italian states were conquered and further divided by multiple European powers over the centuries.\", \"By the mid-19th century, rising Italian nationalism and calls for independence from foreign control led to a period of revolutionary political upheaval. After centuries of foreign domination and political division, Italy was almost entirely unified in 1861, establishing the Kingdom of Italy as a great power. From the late 19th century to the early 20th century, Italy rapidly industrialised, mainly in the north, and acquired a colonial empire, while the south remained largely impoverished and excluded from industrialisation, fuelling a large and influential diaspora. Despite being one of the four main allied powers in World War I, Italy entered a period of economic crisis and social turmoil, leading to the rise of the Italian fascist dictatorship in 1922. Participation in World War II on the Axis side ended in military defeat, economic destruction and the Italian Civil War. Following the liberation of Italy the country abolished their monarchy, established a democratic Republic and enjoyed a prolonged economic boom, becoming a highly developed country.Today, Italy is considered to be one of the world's most culturally and economically advanced countries, with the world's eighth-largest economy by nominal GDP (third in the European Union), sixth-largest national wealth and third-largest central bank gold reserve. It ranks very highly in life expectancy, quality of life, healthcare, and education. The country plays a prominent role in regional and global economic, military, cultural and diplomatic affairs; it is both a regional power and a great power, and is ranked the world's eighth most-powerful military. Italy is a founding and leading member of the European Union and a member of numerous international institutions, including the UN, NATO, the OECD, the OSCE, the WTO, the G7, the G20, the Union for the Mediterranean, the Council of Europe, Uniting for Consensus, the Schengen Area and many more. The country has long been a global centre of art, music, literature, philosophy, science and technology, and fashion, and has greatly influenced and contributed to diverse fields including cinema, cuisine, sports, jurisprudence, banking and business. As a reflection of its cultural wealth, Italy is home to the world's largest number of World Heritage Sites (55), and is the fifth-most visited country.\"]\n"
     ]
    }
   ],
   "source": [
    "import wikipedia\n",
    "p = wikipedia.summary(\"Italy\")\n",
    "p = p.split('\\n')\n",
    "print(len(p))\n",
    "print(p)"
   ]
  },
  {
   "cell_type": "code",
   "execution_count": 2,
   "metadata": {},
   "outputs": [
    {
     "name": "stderr",
     "output_type": "stream",
     "text": [
      "/Users/southdam/Desktop/Master-Project-Flashcard/Code/lib/python3.7/site-packages/transformers/modeling_auto.py:798: FutureWarning: The class `AutoModelWithLMHead` is deprecated and will be removed in a future version. Please use `AutoModelForCausalLM` for causal language models, `AutoModelForMaskedLM` for masked language models and `AutoModelForSeq2SeqLM` for encoder-decoder models.\n",
      "  FutureWarning,\n",
      "Some weights of BartForConditionalGeneration were not initialized from the model checkpoint at facebook/bart-large-cnn and are newly initialized: ['final_logits_bias']\n",
      "You should probably TRAIN this model on a down-stream task to be able to use it for predictions and inference.\n"
     ]
    }
   ],
   "source": [
    "from transformers import AutoModelWithLMHead, AutoTokenizer\n",
    "\n",
    "bart_large = AutoModelWithLMHead.from_pretrained(\"facebook/bart-large-cnn\")\n",
    "bl_tokenizer = AutoTokenizer.from_pretrained(\"facebook/bart-large-cnn\")"
   ]
  },
  {
   "cell_type": "code",
   "execution_count": 5,
   "metadata": {},
   "outputs": [
    {
     "name": "stdout",
     "output_type": "stream",
     "text": [
      "Italy is a unitary parliamentary republic with its capital in Rome. With around 60 million inhabitants, Italy is the third-most populous member state of the European Union. The country covers a total area of 301,340 km2 (116,350 sq mi) and shares land borders with France, Switzerland, Austria, Slovenia, and Vatican City and San Marino. Italy has been home to numerous ancient peoples and cultures. The most predominant are the Indo-European Italic peoples who gave the peninsula its name. Phoenicians and Carthaginians founded colonies mostly in insular Italy. The Roman Empire emerged as the dominant power in the Mediterranean Basin. By the 11th century numerous rival city-states and maritime republics, mainly in the northern and central regions of Italy, rose to great prosperity. These mostly independent statelets served as Europe's main trading hubs with Asia and the Near East. The Renaissance began in Italy and spread to the rest of Europe, bringing a renewed interest in humanism, science, exploration and art. After centuries of foreign domination and political division, Italy was almost entirely unified in 1861, establishing the Kingdom of Italy as a great power. From the late 19th century to the early 20th century, Italy rapidly industrialised, mainly in the north. Despite being one of the four main allied powers in World War I, Italy entered a period of economic crisis and social turmoil.\n"
     ]
    }
   ],
   "source": [
    "paras = str()\n",
    "for i in range(4):\n",
    "    inputs = bl_tokenizer.encode(\"summarize: \" + p[i], return_tensors=\"pt\", max_length=1024, truncation=True)\n",
    "    outputs = bart_large.generate(inputs, max_length=250, min_length=40, length_penalty=2.0, num_beams=4, early_stopping=True)\n",
    "    text = bl_tokenizer.decode(outputs[0])\n",
    "    paras += text[7:]\n",
    "    if i<3:\n",
    "        paras += \" \"\n",
    "print(paras)"
   ]
  },
  {
   "cell_type": "code",
   "execution_count": 7,
   "metadata": {},
   "outputs": [
    {
     "name": "stdout",
     "output_type": "stream",
     "text": [
      "</s><s>With around 60 million inhabitants, Italy is the third-most populous member state of the European Union. The country covers a total area of 301,340 km2 (116,350 sq mi) and shares land borders with France, Switzerland, Austria, Slovenia, and Vatican City and San Marino. Italy has been home to numerous ancient peoples and cultures. The most predominant are the Indo-European Italic peoples who gave the peninsula its name.\n"
     ]
    }
   ],
   "source": [
    "ip = bl_tokenizer.encode(\"summarize: \" + paras, return_tensors=\"pt\", max_length=1024, truncation=True)\n",
    "op = bart_large.generate(ip, max_length=250, min_length=80, length_penalty=2.0, num_beams=4, early_stopping=True)\n",
    "print(bl_tokenizer.decode(op[0]))"
   ]
  },
  {
   "cell_type": "code",
   "execution_count": 9,
   "metadata": {},
   "outputs": [
    {
     "name": "stdout",
     "output_type": "stream",
     "text": [
      "part1:\n",
      "</s><s>Italy is a unitary parliamentary republic with its capital in Rome. With around 60 million inhabitants, Italy is the third-most populous member state of the European Union. The country covers a total area of 301,340 km2 (116,350 sq mi) and shares land borders with France, Switzerland, Austria, Slovenia, and Vatican City and San Marino.\n",
      "++\n",
      "</s><s>Italy is a unitary parliamentary republic with its capital in Rome. With around 60 million inhabitants, Italy is the third-most populous member state of the European Union. The country covers a\n",
      "++\n",
      "</s><s>Italy is a unitary parliamentary republic with its capital in Rome. With around 60 million\n",
      "#########################\n",
      "part2:\n",
      "</s><s>Italy has been home to numerous ancient peoples and cultures. The most predominant are the Indo-European Italic peoples who gave the peninsula its name. Phoenicians and Carthaginians founded colonies mostly in insular Italy. The Roman Empire emerged as the dominant power in the Mediterranean Basin.\n",
      "++\n",
      "</s><s>Italy has been home to numerous ancient peoples and cultures. The most predominant are the Indo-European Italic peoples who gave the peninsula its name. Phoenicians and Carthaginians founded\n",
      "++\n",
      "</s><s>Italy has been home to numerous ancient peoples and cultures. The most predominant are the Indo\n",
      "#########################\n",
      "part3:\n",
      "</s><s>By the 11th century numerous rival city-states and maritime republics, mainly in the northern and central regions of Italy, rose to great prosperity. These mostly independent statelets served as Europe's main trading hubs with Asia and the Near East. The Renaissance began in Italy and spread to the rest of Europe, bringing a renewed interest in humanism, science, exploration and art.\n",
      "++\n",
      "</s><s>By the 11th century numerous rival city-states and maritime republics, mainly in the northern and central regions of Italy, rose to great prosperity. These mostly independent statelets served as\n",
      "++\n",
      "</s><s>By the 11th century numerous rival city-states and maritime republics, mainly in\n",
      "#########################\n",
      "part4:\n",
      "</s><s>After centuries of foreign domination and political division, Italy was almost entirely unified in 1861, establishing the Kingdom of Italy as a great power. From the late 19th century to the early 20th century, Italy rapidly industrialised, mainly in the north. Despite being one of the four main allied powers in World War I, Italy entered a period of economic crisis and social turmoil.\n",
      "++\n",
      "</s><s>After centuries of foreign domination and political division, Italy was almost entirely unified in 1861. From the late 19th century to the early 20th century, Italy rapidly industrialised, mainly in\n",
      "++\n",
      "</s><s>After centuries of foreign domination and political division, Italy was almost entirely unified in 1861.\n",
      "#########################\n"
     ]
    }
   ],
   "source": [
    "for i in range(4):\n",
    "    inputs = bl_tokenizer.encode(\"summarize: \" + p[i], return_tensors=\"pt\", max_length=1024, truncation=True)\n",
    "    print(\"part\"+str(i+1)+\":\")\n",
    "    outputs = bart_large.generate(inputs, max_length=250, min_length=40, length_penalty=2.0, num_beams=4, early_stopping=True)\n",
    "    print(bl_tokenizer.decode(outputs[0]))\n",
    "    print(\"++\")\n",
    "    outputs = bart_large.generate(outputs, max_length=40, min_length=20, length_penalty=2.0, num_beams=4, early_stopping=True)\n",
    "    print(bl_tokenizer.decode(outputs[0]))\n",
    "    print(\"++\")\n",
    "    outputs = bart_large.generate(outputs, max_length=20, min_length=10, length_penalty=2.0, num_beams=4, early_stopping=True)\n",
    "    print(bl_tokenizer.decode(outputs[0]))\n",
    "    print(\"#########################\")"
   ]
  },
  {
   "cell_type": "code",
   "execution_count": 13,
   "metadata": {},
   "outputs": [
    {
     "name": "stderr",
     "output_type": "stream",
     "text": [
      "Some weights of T5ForConditionalGeneration were not initialized from the model checkpoint at t5-large and are newly initialized: ['encoder.embed_tokens.weight', 'decoder.embed_tokens.weight', 'lm_head.weight']\n",
      "You should probably TRAIN this model on a down-stream task to be able to use it for predictions and inference.\n"
     ]
    }
   ],
   "source": [
    "from transformers import AutoModelWithLMHead, AutoTokenizer\n",
    "\n",
    "t5_large = AutoModelWithLMHead.from_pretrained(\"t5-large\")\n",
    "tl_tokenizer = AutoTokenizer.from_pretrained(\"t5-large\")"
   ]
  },
  {
   "cell_type": "code",
   "execution_count": 15,
   "metadata": {},
   "outputs": [
    {
     "name": "stderr",
     "output_type": "stream",
     "text": [
      "Truncation was not explicitely activated but `max_length` is provided a specific value, please use `truncation=True` to explicitely truncate examples to max length. Defaulting to 'longest_first' truncation strategy. If you encode pairs of sequences (GLUE-style) with the tokenizer you can select this strategy more precisely by providing a specific strategy to `truncation`.\n",
      "Truncation was not explicitely activated but `max_length` is provided a specific value, please use `truncation=True` to explicitely truncate examples to max length. Defaulting to 'longest_first' truncation strategy. If you encode pairs of sequences (GLUE-style) with the tokenizer you can select this strategy more precisely by providing a specific strategy to `truncation`.\n"
     ]
    },
    {
     "name": "stdout",
     "output_type": "stream",
     "text": [
      "part1:\n",
      "Italy is a unitary parliamentary republic with its capital in Rome. it covers a total area of 301,340 km2 (116,350 sq mi) it has a territorial exclave in Switzerland (campione) and a maritime exclave in tunisian waters (lampedusa)\n",
      "#########################\n"
     ]
    },
    {
     "name": "stderr",
     "output_type": "stream",
     "text": [
      "Truncation was not explicitely activated but `max_length` is provided a specific value, please use `truncation=True` to explicitely truncate examples to max length. Defaulting to 'longest_first' truncation strategy. If you encode pairs of sequences (GLUE-style) with the tokenizer you can select this strategy more precisely by providing a specific strategy to `truncation`.\n"
     ]
    },
    {
     "name": "stdout",
     "output_type": "stream",
     "text": [
      "part2:\n",
      "due to its central geographic location in southern Europe and the Mediterranean, it has historically been home to myriad peoples and cultures. Phoenicians and carthaginians founded colonies mostly in insular italy. an italic tribe known as the Latins formed the roman kingdom in the 8th century BC.\n",
      "#########################\n"
     ]
    },
    {
     "name": "stderr",
     "output_type": "stream",
     "text": [
      "Truncation was not explicitely activated but `max_length` is provided a specific value, please use `truncation=True` to explicitely truncate examples to max length. Defaulting to 'longest_first' truncation strategy. If you encode pairs of sequences (GLUE-style) with the tokenizer you can select this strategy more precisely by providing a specific strategy to `truncation`.\n"
     ]
    },
    {
     "name": "stdout",
     "output_type": "stream",
     "text": [
      "part3:\n",
      "rival city-states rose to great prosperity through trade, commerce and banking. part of central italy was under the control of the theocratic papal states. italian explorers discovered new routes to the far east and the new world.\n",
      "#########################\n",
      "part4:\n",
      "italy is considered to be one of the world's most culturally and economically advanced countries. it ranks very highly in life expectancy, quality of life, healthcare, and education. the country plays a prominent role in regional and global economic, military, cultural and diplomatic affairs.\n",
      "#########################\n"
     ]
    }
   ],
   "source": [
    "# T5 uses a max_length of 512 so we cut the article to 512 tokens.\n",
    "for i in range(4):\n",
    "    inputs = tl_tokenizer.encode(\"summarize: \" + p[i], return_tensors=\"pt\", max_length=512)\n",
    "    outputs = t5_large.generate(inputs, max_length=150, min_length=40, length_penalty=2.0, num_beams=4, early_stopping=True)\n",
    "    print(\"part\"+str(i+1)+\":\")\n",
    "    print(tl_tokenizer.decode(outputs[0]))\n",
    "    print(\"#########################\")"
   ]
  },
  {
   "cell_type": "code",
   "execution_count": 8,
   "metadata": {},
   "outputs": [
    {
     "name": "stderr",
     "output_type": "stream",
     "text": [
      "Some weights of T5ForConditionalGeneration were not initialized from the model checkpoint at t5-base and are newly initialized: ['encoder.embed_tokens.weight', 'decoder.embed_tokens.weight', 'lm_head.weight']\n",
      "You should probably TRAIN this model on a down-stream task to be able to use it for predictions and inference.\n"
     ]
    }
   ],
   "source": [
    "from transformers import AutoModelWithLMHead, AutoTokenizer\n",
    "\n",
    "t5_base = AutoModelWithLMHead.from_pretrained(\"t5-base\")\n",
    "tb_tokenizer = AutoTokenizer.from_pretrained(\"t5-base\")"
   ]
  },
  {
   "cell_type": "code",
   "execution_count": 9,
   "metadata": {},
   "outputs": [
    {
     "name": "stdout",
     "output_type": "stream",
     "text": [
      "Italy is a unitary parliamentary republic with its capital in Rome. with around 60 million inhabitants, it is the third-most populous member state of the eu. it shares land borders with France, Switzerland, Austria, Slovenia, and Vatican City and San Marino. it has been home to numerous ancient peoples and cultures. the most predominant are the Indo-European Italic peoples.\n"
     ]
    }
   ],
   "source": [
    "ip = tb_tokenizer.encode(\"summarize: \" + paras, return_tensors=\"pt\", max_length=1024, truncation=True)\n",
    "op = t5_base.generate(ip, max_length=250, min_length=80, length_penalty=2.0, num_beams=4, early_stopping=True)\n",
    "print(tb_tokenizer.decode(op[0]))"
   ]
  },
  {
   "cell_type": "code",
   "execution_count": 11,
   "metadata": {},
   "outputs": [
    {
     "name": "stdout",
     "output_type": "stream",
     "text": [
      "part1:\n",
      "it is a unitary parliamentary republic with its capital in Rome. it covers a total area of 301,340 km2 (116,350 sq mi) and shares land borders with France, Switzerland, Austria, Slovenia. with around 60 million inhabitants, it is the third-most populous member state of the european union.\n",
      "++\n",
      "<extra_id_0> with its capital in Rome. it shares land borders with France, Switzerland, Austria, Slovenia. with around 60 million inhabitants, it is the third-most populous member state of\n",
      "++\n",
      "<extra_id_0> it is a Roman state<extra_id_1> capital in Rome.<extra_id_2> capital in Rome.\n",
      "#########################\n",
      "part2:\n",
      "italy has historically been home to myriad peoples and cultures. it remained the homeland of the Romans and the metropole of the empire. by the first century BC, the Roman Empire emerged as the dominant power in the Mediterranean Basin.\n",
      "++\n",
      "it remained the homeland of the Romans and metropole of the empire. by the first century BC, the Roman Empire emerged as the dominant power in the Mediterranean Basin. by\n",
      "++\n",
      "Roman Empire remained the homeland of the Romans and metropole metropole of the empire \n",
      "#########################\n",
      "part3:\n",
      "many rival city-states and maritime republics rose to great prosperity through trade, commerce and banking. part of central Italy was under the control of the theocratic Papal States. southern Italy remained largely feudal until the 19th century.\n",
      "++\n",
      "<extra_id_0> central Italy remained feudal until the 19th century. part of central Italy was under the control of the theocratic Papal States. southern Italy remained feu\n",
      "++\n",
      "<extra_id_0> southern Italy remained feudal until the 19th century. part of<extra_id_1> \n",
      "#########################\n",
      "part4:\n",
      "by the mid-19th century, rising Italian nationalism led to revolutionary political upheaval. the country was almost entirely unified in 1861, establishing the Kingdom of Italy as a great power. it is considered to be one of the world's most culturally and economically advanced countries.\n",
      "++\n",
      "<extra_id_0> one of the world's most culturally and economically advanced countries. Italy was almost entirely unified in 1861, establishing the Kingdom of Italy as a great power.\n",
      "++\n",
      "<extra_id_0>. Italy is<extra_id_1>. Italy is<extra_id_2>'s largest economies. Italy is\n",
      "#########################\n"
     ]
    }
   ],
   "source": [
    "# T5 uses a max_length of 512 so we cut the article to 512 tokens.\n",
    "for i in range(4):\n",
    "    inputs = tb_tokenizer.encode(\"summarize: \" + p[i], return_tensors=\"pt\", max_length=512, truncation=True)\n",
    "    print(\"part\"+str(i+1)+\":\")\n",
    "    outputs = t5_base.generate(inputs, max_length=250, min_length=40, length_penalty=2.0, num_beams=4, early_stopping=True)\n",
    "    print(tb_tokenizer.decode(outputs[0]))\n",
    "    print(\"++\")\n",
    "    outputs = t5_base.generate(outputs, max_length=40, min_length=20, length_penalty=2.0, num_beams=4, early_stopping=True)\n",
    "    print(tb_tokenizer.decode(outputs[0]))\n",
    "    print(\"++\")\n",
    "    outputs = t5_base.generate(outputs, max_length=20, min_length=10, length_penalty=2.0, num_beams=4, early_stopping=True)\n",
    "    print(tb_tokenizer.decode(outputs[0]))\n",
    "    print(\"#########################\")"
   ]
  }
 ],
 "metadata": {
  "kernelspec": {
   "display_name": "Code",
   "language": "python",
   "name": "code"
  },
  "language_info": {
   "codemirror_mode": {
    "name": "ipython",
    "version": 3
   },
   "file_extension": ".py",
   "mimetype": "text/x-python",
   "name": "python",
   "nbconvert_exporter": "python",
   "pygments_lexer": "ipython3",
   "version": "3.7.7"
  }
 },
 "nbformat": 4,
 "nbformat_minor": 2
}
