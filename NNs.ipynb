{
 "cells": [
  {
   "cell_type": "code",
   "execution_count": null,
   "metadata": {},
   "outputs": [],
   "source": [
    "import pandas as pd\n",
    "import numpy as np\n",
    "import torch.nn as nn\n",
    "import torch\n",
    "from torch.utils.data import Dataset, DataLoader\n",
    "from torch.nn import functional as F\n",
    "from transformers import BartTokenizer, BartForConditionalGeneration, BartConfig\n",
    "\n",
    "\"\"\"\n",
    "still need for dataset class: pair tokenize / batch tokenize\n",
    "\"\"\"\n",
    "class TextDataset(Dataset):\n",
    "    '''load and create dataset'''\n",
    "    def __init__(self, filename):\n",
    "        '''\n",
    "            Arg: csv file that contains data we need\n",
    "        '''\n",
    "        self.tokenizer = BartTokenizer.from_pretrained('facebook/bart-large-cnn')\n",
    "        self.text = pd.read_csv(filename, delimiter = '\\t')\n",
    "\n",
    "    def __len__(self):\n",
    "        return len(self.text)\n",
    "    \n",
    "    def __getitem__(self, index):\n",
    "        _ori_ = self.text.loc[index, 'original']\n",
    "        _sum_ = self.text.loc[index, 'summary']\n",
    "        ori_token = self.tokenizer(_ori_)\n",
    "        sum_token = self.tokenizer(_sum_)\n",
    "        return ori_token, sum_token"
   ]
  }
 ],
 "metadata": {
  "kernelspec": {
   "display_name": "Code",
   "language": "python",
   "name": "code"
  },
  "language_info": {
   "codemirror_mode": {
    "name": "ipython",
    "version": 3
   },
   "file_extension": ".py",
   "mimetype": "text/x-python",
   "name": "python",
   "nbconvert_exporter": "python",
   "pygments_lexer": "ipython3",
   "version": "3.7.7"
  }
 },
 "nbformat": 4,
 "nbformat_minor": 2
}
